{
 "cells": [
  {
   "cell_type": "markdown",
   "metadata": {},
   "source": [
    "# Developing an API for AMGeO Users "
   ]
  },
  {
   "cell_type": "markdown",
   "metadata": {},
   "source": [
    "## Authors"
   ]
  },
  {
   "cell_type": "code",
   "execution_count": 1,
   "metadata": {},
   "outputs": [],
   "source": [
    "Author1 = {\n",
    "    \"name\": \"\",\n",
    "    \"affiliation\": \"\",\n",
    "    \"email\": \"\",\n",
    "    \"orcid\": \"\" # optional\n",
    "    \n",
    "}\n",
    "Author2 = {\n",
    "    \n",
    "}\n",
    "Author3 = {\n",
    "    \n",
    "}\n",
    "\n",
    "TomokoOrcid = \"0000-0002-2754-1224\"\n",
    "LiamOrcid = \"0000-0002-4980-3045\""
   ]
  },
  {
   "cell_type": "markdown",
   "metadata": {},
   "source": [
    "## Purpose"
   ]
  },
  {
   "cell_type": "markdown",
   "metadata": {},
   "source": [
    "To empower new and existing users of [AMGeO](TODO: link here) in pursuit of their research goals, a new API (Application Programming Interface) is being developed. \n",
    "It will offer a smoother introduction for new users to the tools provided by AMGeO, and also facilitate efficient workflows for experienced users."
   ]
  },
  {
   "cell_type": "markdown",
   "metadata": {},
   "source": [
    "## Technical contributions"
   ]
  },
  {
   "cell_type": "markdown",
   "metadata": {},
   "source": [
    "The only contribution demonstarted in this notebook is the new API that will be pa"
   ]
  },
  {
   "cell_type": "markdown",
   "metadata": {},
   "source": [
    "## Methodology"
   ]
  },
  {
   "cell_type": "markdown",
   "metadata": {},
   "source": [
    "touch on all the specific features that this api is looking to address\n",
    "\n",
    "what => how\n",
    "\n",
    "new features \n",
    "- high level data generation jobs\n",
    "- progress/logs\n",
    "- python friendly data interopablitiy\n"
   ]
  },
  {
   "cell_type": "markdown",
   "metadata": {},
   "source": [
    "## Results"
   ]
  },
  {
   "cell_type": "markdown",
   "metadata": {},
   "source": [
    "Enables multi-level experience users to interact with amgeo data, expand on examples later in notebook, \n",
    "\n",
    "novice => easy way to get data\n",
    "\n",
    "intermediate => generate more complex data and basic plots of data\n",
    "\n",
    "expert => spatial pca with scikit "
   ]
  },
  {
   "cell_type": "markdown",
   "metadata": {},
   "source": [
    "## Funding"
   ]
  },
  {
   "cell_type": "markdown",
   "metadata": {},
   "source": [
    "TODO: NSF Grant here"
   ]
  },
  {
   "cell_type": "markdown",
   "metadata": {},
   "source": [
    "## Keywords"
   ]
  },
  {
   "cell_type": "code",
   "execution_count": 2,
   "metadata": {},
   "outputs": [],
   "source": [
    "keywords = ['AMGeO', 'API', 'Data Assimilation', 'Ionoshpheric Electrodynamics', \n",
    "            'python'] # TODO:"
   ]
  },
  {
   "cell_type": "markdown",
   "metadata": {},
   "source": [
    "## Citation"
   ]
  },
  {
   "cell_type": "markdown",
   "metadata": {},
   "source": [
    "TODO: Zenodo citation once done will be put here"
   ]
  },
  {
   "cell_type": "markdown",
   "metadata": {},
   "source": [
    "## Work in progress"
   ]
  },
  {
   "cell_type": "markdown",
   "metadata": {},
   "source": []
  },
  {
   "cell_type": "markdown",
   "metadata": {},
   "source": [
    "## Suggested next steps\n",
    "\n",
    "Optional"
   ]
  },
  {
   "cell_type": "markdown",
   "metadata": {},
   "source": [
    "TODO: link to workshop in july"
   ]
  },
  {
   "cell_type": "markdown",
   "metadata": {},
   "source": [
    "## Acknowledgements"
   ]
  },
  {
   "cell_type": "markdown",
   "metadata": {},
   "source": [
    "SuperMag => https://supermag.jhuapl.edu/info/?page=acknowledgement TODO: paste text from ground magnotometer data\n",
    "\n",
    "SuperDARN =>  http://vt.superdarn.org/tiki-read_article.php?articleId=376 TODO:  paste text from recommended"
   ]
  },
  {
   "cell_type": "markdown",
   "metadata": {},
   "source": [
    "# Setup"
   ]
  },
  {
   "cell_type": "code",
   "execution_count": 3,
   "metadata": {
    "scrolled": true
   },
   "outputs": [
    {
     "name": "stdout",
     "output_type": "stream",
     "text": [
      "Traceback (most recent call last):\n",
      "  File \"/Users/willemmirkovich/AMGeO/AMGeO/src/nasaomnireader/nasaomnireader/__init__.py\", line 5, in <module>\n",
      "    from nasaomnireader.omnireader_config import config\n",
      "ModuleNotFoundError: No module named 'nasaomnireader.omnireader_config'\n",
      "\n",
      "Solar wind data files will be saved to /Users/willemmirkovich/Library/Application Support/nasaomnireader\n",
      "Traceback (most recent call last):\n",
      "  File \"/Users/willemmirkovich/AMGeO/AMGeO/src/nasaomnireader/nasaomnireader/omnireader.py\", line 12, in <module>\n",
      "    from spacepy import pycdf\n",
      "ModuleNotFoundError: No module named 'spacepy'\n",
      "\n",
      "\n",
      "------------IMPORTANT----------------------------\n",
      "Unable to import spacepy. Will fall back to\n",
      "using Omni text files, which may have slightly\n",
      "different data and incomplete metadata\n",
      "-------------------------------------------------\n",
      "\n"
     ]
    }
   ],
   "source": [
    "import AMGeO\n",
    "\n",
    "# matplot lib for intermediate plots\n",
    "\n",
    "# scikit learn for pca"
   ]
  },
  {
   "cell_type": "code",
   "execution_count": null,
   "metadata": {},
   "outputs": [],
   "source": [
    "# TODO: local imports for file config"
   ]
  },
  {
   "cell_type": "markdown",
   "metadata": {},
   "source": [
    "# Parameter definitions"
   ]
  },
  {
   "cell_type": "code",
   "execution_count": 4,
   "metadata": {},
   "outputs": [],
   "source": [
    "# this part may be a bit funky with notebook being an api\n",
    "\n",
    "# TODO: set api immutable\n",
    "\n",
    "# TODO: api key and such"
   ]
  },
  {
   "cell_type": "markdown",
   "metadata": {},
   "source": [
    "# Data import"
   ]
  },
  {
   "cell_type": "code",
   "execution_count": 5,
   "metadata": {},
   "outputs": [],
   "source": [
    "# here, should run jobs of amgeo dates/datetimes\n",
    "\n",
    "# TODO: walk through how data generation is happening, include links to amgeo website, \n",
    "# NOTE: that it is pregenrated"
   ]
  },
  {
   "cell_type": "markdown",
   "metadata": {},
   "source": [
    "# Data processing and analysis"
   ]
  },
  {
   "cell_type": "markdown",
   "metadata": {},
   "source": [
    "This notebook contains 3 different examples of using AMGeO from different levels of experience, for different research and tasks"
   ]
  },
  {
   "cell_type": "markdown",
   "metadata": {},
   "source": [
    "## Novice"
   ]
  },
  {
   "cell_type": "markdown",
   "metadata": {},
   "source": [
    "In this example,"
   ]
  },
  {
   "cell_type": "code",
   "execution_count": 6,
   "metadata": {},
   "outputs": [],
   "source": [
    "# run one datetime\n",
    "\n",
    "# plot using in house amgeo plotting tools, grid_data_contourf in plots.py "
   ]
  },
  {
   "cell_type": "markdown",
   "metadata": {},
   "source": [
    "## Intermediate"
   ]
  },
  {
   "cell_type": "markdown",
   "metadata": {},
   "source": [
    "In this example, a user "
   ]
  },
  {
   "cell_type": "code",
   "execution_count": 7,
   "metadata": {},
   "outputs": [],
   "source": [
    "# plot average epot over datetimes? non standared output dir and such\n",
    "\n",
    "# cross polar cap potentail => max - min => range of the potential => potential drop"
   ]
  },
  {
   "cell_type": "markdown",
   "metadata": {},
   "source": [
    "## Expert"
   ]
  },
  {
   "cell_type": "markdown",
   "metadata": {},
   "source": [
    "In this example, a user wants to prepare some AMGeO data for PCA"
   ]
  },
  {
   "cell_type": "code",
   "execution_count": 8,
   "metadata": {},
   "outputs": [],
   "source": [
    "# scikit pca "
   ]
  },
  {
   "cell_type": "code",
   "execution_count": null,
   "metadata": {},
   "outputs": [],
   "source": []
  },
  {
   "cell_type": "markdown",
   "metadata": {},
   "source": [
    "## Summary"
   ]
  },
  {
   "cell_type": "markdown",
   "metadata": {},
   "source": [
    "Explain what these examples demonstrate with AMGeO"
   ]
  },
  {
   "cell_type": "markdown",
   "metadata": {},
   "source": [
    "# References"
   ]
  },
  {
   "cell_type": "markdown",
   "metadata": {},
   "source": [
    "AMGeO white paper\n",
    "supermag/superdarn\n",
    "\n",
    "xarray\n",
    "scikit learn\n",
    "matplotlib\n",
    "\n",
    "for python packages, go to doi/how to cite on github page for information"
   ]
  }
 ],
 "metadata": {
  "kernelspec": {
   "display_name": "Python 3",
   "language": "python",
   "name": "python3"
  },
  "language_info": {
   "codemirror_mode": {
    "name": "ipython",
    "version": 3
   },
   "file_extension": ".py",
   "mimetype": "text/x-python",
   "name": "python",
   "nbconvert_exporter": "python",
   "pygments_lexer": "ipython3",
   "version": "3.7.6"
  }
 },
 "nbformat": 4,
 "nbformat_minor": 4
}
