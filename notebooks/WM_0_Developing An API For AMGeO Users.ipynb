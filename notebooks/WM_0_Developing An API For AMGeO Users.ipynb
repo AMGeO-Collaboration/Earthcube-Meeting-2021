{
 "cells": [
  {
   "cell_type": "markdown",
   "metadata": {},
   "source": [
    "# Developing an API for AMGeO Users "
   ]
  },
  {
   "cell_type": "markdown",
   "metadata": {},
   "source": [
    "## AMGeO "
   ]
  },
  {
   "cell_type": "markdown",
   "metadata": {},
   "source": [
    "AMGeO Background here???"
   ]
  },
  {
   "cell_type": "markdown",
   "metadata": {},
   "source": [
    "## Authors"
   ]
  },
  {
   "cell_type": "code",
   "execution_count": null,
   "metadata": {},
   "outputs": [],
   "source": [
    "Author1 = {\n",
    "    \"name\": \"Willem Mirkovich\",\n",
    "    \"affiliation\": \"\",\n",
    "    \"email\": \"willemmirkovich@gmail.com\"\n",
    "}\n",
    "Author2 = {\n",
    "    \"name\": \"Tomoko Matsuo\",\n",
    "    \"affiliation\": \"\",\n",
    "    \"email\": \"\",\n",
    "    \"orcid\": \"0000-0002-2754-1224\" \n",
    "}\n",
    "Author3 = {\n",
    "    \"name\": \"Willem Mirkovich\",\n",
    "    \"affiliation\": \"\",\n",
    "    \"email\": \"willemmirkovich@gmail.com\",\n",
    "    \"orcid\": \"0000-0002-4980-3045\"\n",
    "}"
   ]
  },
  {
   "cell_type": "markdown",
   "metadata": {},
   "source": [
    "## Purpose"
   ]
  },
  {
   "cell_type": "markdown",
   "metadata": {},
   "source": [
    "To empower new and existing users of [AMGeO](https://amgeo.colorado.edu/) in pursuit of their research goals, a new API (Application Programming Interface) is being developed. \n",
    "It will offer a smoother introduction for new users to the tools provided by AMGeO, and also facilitate efficient workflows for experienced users.\n",
    "\n",
    "This notebook showcases the new API, and example use cases given differnent levels of experience/tasks to complete."
   ]
  },
  {
   "cell_type": "markdown",
   "metadata": {},
   "source": [
    "## Technical contributions"
   ]
  },
  {
   "cell_type": "markdown",
   "metadata": {},
   "source": [
    "This notebook showcases the new API that will be available when using AMGeO."
   ]
  },
  {
   "cell_type": "markdown",
   "metadata": {},
   "source": [
    "## Methodology"
   ]
  },
  {
   "cell_type": "markdown",
   "metadata": {},
   "source": [
    "This API has been designed with the intention of facilitating the ease of use with AMGeO. While AMGeO is highly customizeable and offers researchers an array of tools to get the data they need, TODO:\n",
    "\n",
    "NOTE: add ability to develop in notebooks natively\n",
    "\n",
    "To address these needs, the following features have been added.\n",
    "- accessibility through notebooks\n",
    "- high-level data generation jobs (range of dates, list of dates, etc.)\n",
    "- python friendly data interopablitiy with tools like numpy and xarray\n",
    "- configuration tools\n"
   ]
  },
  {
   "cell_type": "markdown",
   "metadata": {},
   "source": [
    "## Results"
   ]
  },
  {
   "cell_type": "markdown",
   "metadata": {},
   "source": [
    "TODO: summarize here"
   ]
  },
  {
   "cell_type": "markdown",
   "metadata": {},
   "source": [
    "## Funding"
   ]
  },
  {
   "cell_type": "markdown",
   "metadata": {},
   "source": [
    "TODO: NSF Grant here"
   ]
  },
  {
   "cell_type": "markdown",
   "metadata": {},
   "source": [
    "## Keywords"
   ]
  },
  {
   "cell_type": "code",
   "execution_count": 1,
   "metadata": {},
   "outputs": [],
   "source": [
    "keywords = ['AMGeO', 'API', 'Data Assimilation', 'Ionoshpheric Electrodynamics', \n",
    "            'python'] # TODO"
   ]
  },
  {
   "cell_type": "markdown",
   "metadata": {},
   "source": [
    "## Citation"
   ]
  },
  {
   "cell_type": "markdown",
   "metadata": {},
   "source": [
    "TODO: Zenodo citation once done will be put here"
   ]
  },
  {
   "cell_type": "markdown",
   "metadata": {},
   "source": [
    "## Work in progress"
   ]
  },
  {
   "cell_type": "markdown",
   "metadata": {},
   "source": [
    "The following items are stil in progress of being developed\n",
    "\n",
    "- profile settings to save configuration settings\n",
    "- range of times in between two datetimes\n",
    "- full metadata access from data generated using API"
   ]
  },
  {
   "cell_type": "markdown",
   "metadata": {},
   "source": [
    "## Suggested next steps"
   ]
  },
  {
   "cell_type": "markdown",
   "metadata": {},
   "source": [
    "If you would like to learn more about AMGeO or get a hands on demo with the API presented here, please join us at our workshop in (TODO) by (TODO)"
   ]
  },
  {
   "cell_type": "markdown",
   "metadata": {},
   "source": [
    "## Acknowledgements"
   ]
  },
  {
   "cell_type": "markdown",
   "metadata": {},
   "source": [
    "### SuperMAG\n",
    "\n",
    "#### Ground Magnetometer Data\n",
    "\n",
    "For the ground magnetometer data we gratefully acknowledge: INTERMAGNET, Alan Thomson; CARISMA, PI Ian Mann; CANMOS, Geomagnetism Unit of the Geological Survey of Canada; The S-RAMP Database, PI K. Yumoto and Dr. K. Shiokawa; The SPIDR database; AARI, PI Oleg Troshichev; The MACCS program, PI M. Engebretson; GIMA; MEASURE, UCLA IGPP and Florida Institute of Technology; SAMBA, PI Eftyhia Zesta; 210 Chain, PI K. Yumoto; SAMNET, PI Farideh Honary; IMAGE, PI Liisa Juusola; Finnish Meteorological Institute, PI Liisa Juusola; Sodankylä Geophysical Observatory, PI Tero Raita; UiT the Arctic University of Norway, Tromsø Geophysical Observatory, PI Magnar G. Johnsen; GFZ German Research Centre For Geosciences, PI Jürgen Matzka; Institute of Geophysics, Polish Academy of Sciences, PI Anne Neska and Jan Reda; Polar Geophysical Institute, PI Alexander Yahnin and Yarolav Sakharov; Geological Survey of Sweden, PI Gerhard Schwarz; Swedish Institute of Space Physics, PI Masatoshi Yamauchi; AUTUMN, PI Martin Connors; DTU Space, Thom Edwards and PI Anna Willer; South Pole and McMurdo Magnetometer, PI's Louis J. Lanzarotti and Alan T. Weatherwax; ICESTAR; RAPIDMAG; British Artarctic Survey; McMac, PI Dr. Peter Chi; BGS, PI Dr. Susan Macmillan; Pushkov Institute of Terrestrial Magnetism, Ionosphere and Radio Wave Propagation (IZMIRAN); MFGI, PI B. Heilig; Institute of Geophysics, Polish Academy of Sciences, PI Anne Neska and Jan Reda; University of L’Aquila, PI M. Vellante; BCMT, V. Lesur and A. Chambodut; Data obtained in cooperation with Geoscience Australia, PI Andrew Lewis; AALPIP, co-PIs Bob Clauer and Michael Hartinger; SuperMAG, PI Jesper W. Gjerloev; Data obtained in cooperation with the Australian Bureau of Meteorology, PI Richard Marshall. \n",
    "\n",
    "SuperDARN =>  http://vt.superdarn.org/tiki-read_article.php?articleId=376\n",
    "TODO: double check\n",
    "### SuperDARN\n",
    "\n",
    "‘The authors acknowledge the use of SuperDARN data. SuperDARN is a collection of radars\n",
    "funded by national scientific funding agencies of Australia, Canada, China, France, Italy, Japan,\n",
    "Norway, South Africa, United Kingdom and the United States of America.’\n",
    "\n",
    "Notes:\n",
    "\n",
    "1) This text of this form of acknowledgement is taken from Appendix 10 of the SuperDARN\n",
    "PI agreement, signed in 2012, and updated in 2017 with the additions of Italy and\n",
    "Norway.\n",
    "\n",
    "2) This form of acknowledgement is most suitable when general use is made of SuperDARN\n",
    "data without heavy emphasis on one particular radar or the radars of one PI group.\n",
    "\n",
    "3) In the case of such emphasis, the author is encouraged to contact the relevant PI for\n",
    "guidance on the most appropriate form of acknowledgement."
   ]
  },
  {
   "cell_type": "markdown",
   "metadata": {},
   "source": [
    "# Setup"
   ]
  },
  {
   "cell_type": "code",
   "execution_count": null,
   "metadata": {
    "scrolled": true
   },
   "outputs": [],
   "source": [
    "# AMGeO API\n",
    "#from AMGeO import AMGeO\n",
    "from AMGeO.api import AMGeO\n",
    "from AMGeO.plots import grid_data_contourf\n",
    "\n",
    "# datetime, date\n",
    "from datetime import date, datetime\n",
    "\n",
    "import numpy as np\n",
    "\n",
    "# matplot lib for intermediate plots\n",
    "import matplotlib.pyplot as plt\n",
    "\n",
    "# scikit learn for pca"
   ]
  },
  {
   "cell_type": "code",
   "execution_count": null,
   "metadata": {},
   "outputs": [],
   "source": [
    "# TODO: local imports for file config"
   ]
  },
  {
   "cell_type": "markdown",
   "metadata": {},
   "source": [
    "# Parameter definitions"
   ]
  },
  {
   "cell_type": "code",
   "execution_count": null,
   "metadata": {},
   "outputs": [],
   "source": [
    "# this part may be a bit funky with notebook being an api\n",
    "api = AMGeO()\n",
    "\n",
    "# TODO: set controller up here\n",
    "controller = api.get_controller()\n",
    "\n",
    "# novice setup\n",
    "default_dir = ''\n",
    "\n",
    "# intermediate setup\n",
    "intermediate_dir = ''\n",
    "\n",
    "# expert setup\n",
    "expert_dir = ''\n",
    "\n",
    "hemisphere = 'N'\n",
    "\n",
    "# TODO: api key and such\n",
    "# api.set_configuration()"
   ]
  },
  {
   "cell_type": "markdown",
   "metadata": {},
   "source": [
    "# Data import"
   ]
  },
  {
   "cell_type": "markdown",
   "metadata": {},
   "source": [
    "## Novice"
   ]
  },
  {
   "cell_type": "code",
   "execution_count": null,
   "metadata": {
    "scrolled": false
   },
   "outputs": [],
   "source": [
    "# usually already set\n",
    "api.set_output_dir(default_dir) # TODO: dont set!\n",
    "api.get_output_dir()"
   ]
  },
  {
   "cell_type": "code",
   "execution_count": null,
   "metadata": {},
   "outputs": [],
   "source": [
    "# specify the date time desired\n",
    "dt = datetime()\n",
    "\n",
    "# generate data for the following single datetime\n",
    "controller.generate(dt, hemisphere)"
   ]
  },
  {
   "cell_type": "markdown",
   "metadata": {},
   "source": [
    "## Intermediate"
   ]
  },
  {
   "cell_type": "code",
   "execution_count": null,
   "metadata": {},
   "outputs": [],
   "source": [
    "api.set_output_dir(intermediate_dir)\n",
    "api.get_output_dir()"
   ]
  },
  {
   "cell_type": "code",
   "execution_count": null,
   "metadata": {},
   "outputs": [],
   "source": [
    "# run on list of datetimes\n",
    "datetimes = [\n",
    "    # TODO: do datetimes from same day\n",
    "    datetime(),\n",
    "]\n",
    "\n",
    "# generate data for each specific datetime provided in list\n",
    "controller.generate(datetimes, hemisphere)"
   ]
  },
  {
   "cell_type": "markdown",
   "metadata": {},
   "source": [
    "## Expert"
   ]
  },
  {
   "cell_type": "code",
   "execution_count": null,
   "metadata": {},
   "outputs": [],
   "source": [
    "api.set_output_dir(intermediate_dir)\n",
    "api.get_output_dir()"
   ]
  },
  {
   "cell_type": "code",
   "execution_count": null,
   "metadata": {},
   "outputs": [],
   "source": [
    "d = date()\n",
    "\n",
    "controller.generate(d, hemisphere)"
   ]
  },
  {
   "cell_type": "markdown",
   "metadata": {},
   "source": [
    "# Data processing and analysis"
   ]
  },
  {
   "cell_type": "markdown",
   "metadata": {},
   "source": [
    "## Novice"
   ]
  },
  {
   "cell_type": "code",
   "execution_count": null,
   "metadata": {},
   "outputs": [],
   "source": [
    "api.set_output_dir(default_dir)\n",
    "\n",
    "# see what data is available \n",
    "controller.browse()"
   ]
  },
  {
   "cell_type": "code",
   "execution_count": null,
   "metadata": {
    "scrolled": true
   },
   "outputs": [],
   "source": [
    "# TODO: set good parameter defs for dates used in each example\n",
    "\n",
    "date = controller.browse()[1]\n",
    "\n",
    "# get xarray dataset\n",
    "ds = controller.load(date)\n",
    "ds"
   ]
  },
  {
   "cell_type": "markdown",
   "metadata": {},
   "source": [
    "TODO: explain the data here"
   ]
  },
  {
   "cell_type": "code",
   "execution_count": null,
   "metadata": {
    "scrolled": true
   },
   "outputs": [],
   "source": [
    "epot = ds['epot'].sel(time=dt)\n",
    "epot"
   ]
  },
  {
   "cell_type": "code",
   "execution_count": null,
   "metadata": {},
   "outputs": [],
   "source": [
    "# plot data from epot\n",
    "\n",
    "# TODO: get method going for plotting directly from passing this data"
   ]
  },
  {
   "cell_type": "markdown",
   "metadata": {},
   "source": [
    "## Intermediate"
   ]
  },
  {
   "cell_type": "code",
   "execution_count": null,
   "metadata": {},
   "outputs": [],
   "source": [
    "# plot average epot over datetimes? non standared output dir and such\n",
    "api.set_output_dir(intermediate_dir)\n",
    "\n",
    "controller.browse()"
   ]
  },
  {
   "cell_type": "code",
   "execution_count": null,
   "metadata": {},
   "outputs": [],
   "source": [
    "# first, load data set"
   ]
  },
  {
   "cell_type": "code",
   "execution_count": null,
   "metadata": {},
   "outputs": [],
   "source": [
    "# create method to get cross polar cap potential\n",
    "\n",
    "# cross polar cap potentail => max - min => range of the potential => potential drop\n",
    "\n",
    "def get_potential_drop(da):\n",
    "    max_v = -np.infty\n",
    "    min_v = np.infty\n",
    "    for i in range(len(da)):\n",
    "        for j in range(len(da[i])):\n",
    "            if da[i][j] < min_v:\n",
    "                min_v = da[i][j]\n",
    "            if da[i][j] > max_v:\n",
    "                max_v = da[i][j]\n",
    "    return max_v - min_v\n",
    "\n",
    "# TODO: get just plain jane value\n",
    "# acually maybe not as time is nice to have here\n",
    "v = get_potential_drop(epot)\n",
    "v"
   ]
  },
  {
   "cell_type": "code",
   "execution_count": null,
   "metadata": {},
   "outputs": [],
   "source": [
    "fig, ax = plt.subplots(figsize=(8, 8))\n",
    "ax.scatter(0, int(v))\n",
    "# TODO: figure out how to annotate well\n",
    "# ax.annotate('%s' % str(v.time), xy=xy, textcoords='data')"
   ]
  },
  {
   "cell_type": "markdown",
   "metadata": {},
   "source": [
    "## Expert"
   ]
  },
  {
   "cell_type": "code",
   "execution_count": null,
   "metadata": {},
   "outputs": [],
   "source": [
    "# scikit pca "
   ]
  },
  {
   "cell_type": "code",
   "execution_count": null,
   "metadata": {},
   "outputs": [],
   "source": [
    "# maybe show metadata?"
   ]
  },
  {
   "cell_type": "markdown",
   "metadata": {},
   "source": [
    "## Summary"
   ]
  },
  {
   "cell_type": "markdown",
   "metadata": {},
   "source": [
    "These examples showcase the streamlined process for researchers to start using AMGeO, from start to finish.\n",
    "\n",
    "TODO:"
   ]
  },
  {
   "cell_type": "markdown",
   "metadata": {},
   "source": [
    "# References"
   ]
  },
  {
   "cell_type": "markdown",
   "metadata": {},
   "source": [
    "AMGeO white paper\n",
    "supermag/superdarn\n",
    "\n",
    "1. xarray https://zenodo.org/record/4741049\n",
    "2. scikit learn https://zenodo.org/record/4725836\n",
    "3. matplotlib https://zenodo.org/record/4743323\n",
    "4. numpy https://numpy.org/citing-numpy/"
   ]
  },
  {
   "cell_type": "code",
   "execution_count": null,
   "metadata": {},
   "outputs": [],
   "source": []
  }
 ],
 "metadata": {
  "kernelspec": {
   "display_name": "Python 3",
   "language": "python",
   "name": "python3"
  },
  "language_info": {
   "codemirror_mode": {
    "name": "ipython",
    "version": 3
   },
   "file_extension": ".py",
   "mimetype": "text/x-python",
   "name": "python",
   "nbconvert_exporter": "python",
   "pygments_lexer": "ipython3",
   "version": "3.7.6"
  }
 },
 "nbformat": 4,
 "nbformat_minor": 4
}
